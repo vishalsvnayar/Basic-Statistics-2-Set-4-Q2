{
 "cells": [
  {
   "cell_type": "markdown",
   "id": "4fbd647c",
   "metadata": {},
   "source": [
    "**Q2**.For each of the following statements, indicate whether it is True/False. If false, explain why.\n",
    "\n",
    "The manager of a warehouse monitors the volume of shipments made by the delivery team. The automated tracking system tracks every package as it moves through the facility. A sample of 25 packages is selected and weighed every day. Based on current contracts with customers, the weights should have μ = 22 lbs. and σ = 5 lbs.\n",
    "\n",
    "1.Before using a normal model for the sampling distribution of the average package weights, the manager must confirm that weights of individual packages are normally distributed.\n",
    "\n",
    "**Ans**: The statement is false because the individual values do not need to be normally distributed as long as the sample size condition is satisfied.\n",
    "\n",
    "2.The standard error of the daily average SE(x ̅) = 1.\n",
    "\n",
    "**Ans**: The standard error of the mean is given by the formula ​SE(X​)=σ/√n. For this​ example, this value is equal to\n",
    "\n",
    "​SE(X​)=5/25=1.\n"
   ]
  },
  {
   "cell_type": "markdown",
   "id": "26451c4d",
   "metadata": {},
   "source": []
  }
 ],
 "metadata": {
  "kernelspec": {
   "display_name": "Python 3 (ipykernel)",
   "language": "python",
   "name": "python3"
  },
  "language_info": {
   "codemirror_mode": {
    "name": "ipython",
    "version": 3
   },
   "file_extension": ".py",
   "mimetype": "text/x-python",
   "name": "python",
   "nbconvert_exporter": "python",
   "pygments_lexer": "ipython3",
   "version": "3.9.7"
  }
 },
 "nbformat": 4,
 "nbformat_minor": 5
}
